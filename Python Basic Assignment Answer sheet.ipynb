{
 "cells": [
  {
   "cell_type": "markdown",
   "id": "0437cf94-64fa-4061-8693-41ff89530878",
   "metadata": {},
   "source": [
    "# 1. What is Python, and why is it popular ?\n",
    "- Python is a high-level, interpreted programming language known for its simplicity, readability, and versatility. \n",
    "                                                                \n",
    "- It was created by Guido van Rossum and released in 1991.\n",
    "\n",
    "- Python is a programming language that is easy to understand and write, making it a popular choice among developers and programmers. \n",
    "\n",
    "- It is compatible with various programming paradigms, such as procedural, object-oriented, and functional programming. \n",
    "\n",
    "- Python has a large and active community of developers, an extensive standard library, and third-party packages for various domains. \n",
    "\n",
    "# Python is popular for several reasons:\n",
    "\n",
    "- Easy to Learn & Readable – Its simple syntax is similar to English, making it beginner-friendly.\n",
    "\n",
    "- Versatile & General-Purpose – Python can be used for web development, data science, automation, AI, and more.\n",
    "\n",
    "- Huge Community Support – A vast number of libraries, frameworks, and an active community make development faster.\n",
    "\n",
    "- Great for AI & Data Science – Libraries like TensorFlow, Pandas, and Scikit-learn make it a top choice for ML and data analysis.\n",
    "\n",
    "- Cross-Platform – Works on Windows, macOS, and Linux without major modifications.\n",
    "\n",
    "- Automation & Scripting – Many use Python to automate repetitive tasks, saving time.\n",
    "\n",
    "- Strong Job Market – Many companies use Python, making it a high-demand skill.\n",
    "\n",
    "# 2. What is an interpreter in Python ?\n",
    "\n",
    "An interpreter in Python is a program that executes Python code line by line rather than compiling the entire code before running it.\n",
    "    \n",
    "It reads and executes the code directly, making Python an interpreted language.\n",
    "\n",
    "- Key Functions of a Python Interpreter:\n",
    "\n",
    "Reads the source code: Takes your .py file as input.\n",
    "\n",
    "Converts to bytecode: Translates human-readable Python code into bytecode (intermediate representation).\n",
    "\n",
    "Executes the code: The Python Virtual Machine (PVM) runs the bytecode.\n",
    "\n",
    "- Types of Python Interpreters:\n",
    "\n",
    "CPython (Default) – The standard interpreter written in C.\n",
    "\n",
    "PyPy – Faster alternative using Just-In-Time (JIT) compilation.\n",
    "\n",
    "Jython – Runs Python code on the Java platform.\n",
    "\n",
    "IronPython – Runs Python code on the .NET framework.\n",
    "\n",
    "MicroPython – A lightweight interpreter for microcontrollers.\n",
    "\n",
    "# 3. What are pre-defined keywords in Python ?\n",
    "- Keywords are reserved words in Python that have special meanings and cannot be used as identifiers (variable names, function names, etc.). \n",
    "\n",
    "- Examples of keywords include if, else, while, for, def, class, import, try, except, return, True, False, None, etc.\n",
    "\n",
    "- Keywords are case-sensitive and cannot be redefined or overridden within a Python program.\n",
    "\n",
    "# 4. Can keywords be used as variable names ?\n",
    "    \n",
    "No,\n",
    "\n",
    "Since keywords already have predefined roles, using them as variable names would cause \"syntax errors\".\n",
    "\n",
    "Python will not allow you to assign values to keywords\n",
    "\n",
    "# 5. What is mutability in Python ?\n",
    "- In Python, objects can be changeable (modifiable) \n",
    "\n",
    "- Mutable objects, such as lists and dictionaries, can be modified after creation.\n",
    "\n",
    "- Mutability affects how objects are stored and manipulated in memory, impacting performance, memory usage, and concurrency in Python programs. \n",
    "\n",
    "# 6. Why are lists mutable, but tuples are immutable ?\n",
    "\n",
    "   Lists are mutable because:\n",
    "\n",
    "- They are designed to hold sequences of items that might change over time.\n",
    "\n",
    "- You can add, remove, or change elements in a list without creating a whole new list.\n",
    "\n",
    "- This makes them super flexible and efficient for operations like appending, popping, or modifying items.\n",
    "    \n",
    "- lists are implemented as dynamic arrays, which can change in size and contents.\n",
    "\n",
    "  Tuples are immutable because:\n",
    "\n",
    "- They’re meant to represent fixed collections of items.\n",
    "\n",
    "- This makes them safe to use as dictionary keys or elements in a set, which require immutability.\n",
    "\n",
    "- It also gives some performance benefits (like faster iteration), and ensures data integrity. \n",
    "\n",
    "# 7. What is the difference between “==” and “is” operators in Python ?\n",
    "    \n",
    "\n",
    "    == (Equality Operator)\n",
    "    \n",
    "- Checks if the values are equal\n",
    "\n",
    "- Compares the contents of the objects\n",
    "\n",
    "- You can override this behavior using the __eq__ method in classes.\n",
    "\n",
    "a = [1, 2, 3]\n",
    "\n",
    "b = [1, 2, 3]\n",
    "\n",
    "print(a == b)   # True — because the contents are the same\n",
    "\n",
    " \n",
    " - is (Identity Operator)\n",
    "\n",
    "Checks if two variables point to the same object in memory\n",
    "\n",
    "Compares the identity (i.e., object reference)\n",
    "\n",
    "a = [1, 2, 3]\n",
    "\n",
    "b = [1, 2, 3]\n",
    "\n",
    "print(a is b)  # False — different objects in memory\n",
    "\n",
    "But:\n",
    "\n",
    "a = b\n",
    "\n",
    "print(a is b)    # True — because they refer to the same object now\n",
    "\n",
    "\n",
    "# 8. What are logical operators in Python ?\n",
    "\n",
    "- Python Logical Operators(and, or, not)\n",
    "\n",
    "Logical operators are used to combine conditional statements:\n",
    "\n",
    "- Operator:  and \n",
    "\n",
    "Description:     Returns True if both statements are true\t\n",
    "\n",
    "Example:           x < 5 and  x < 10\t\n",
    "\n",
    "- Operator:   or\n",
    "\n",
    "Description:      Returns True if one of the statements is true\n",
    "\n",
    "Example:\t      x < 5 or x < 4\t\n",
    "\n",
    "- Operator:    not \n",
    "\n",
    "Description:        Reverse the result, returns False if the result is true\t\n",
    "\n",
    "Example:            not(x < 5 and x < 10)\t\n",
    "\n",
    "# 9. What is type casting in Python ?\n",
    "\n",
    "- The conversion of one data type into the other data type is known as type casting in python or type conversion in python.\n",
    "\n",
    "- Python supports a wide variety of functions or methods like: int(), float(), str(), ord(), hex(), oct(), tuple(), set(), list(), dict(), etc.\n",
    "\n",
    "- Type casting is necessary for performing arithmetic operations, data manipulation, and input/output operations in Python programs.\n",
    "\n",
    "# 10. What is the difference between implicit and explicit type casting ?\n",
    "\n",
    " - Implicit type casting:\n",
    "\n",
    "Python automatically converts one data type to another without programmer intervention.\n",
    "\n",
    "This usually happens when performing operations between different data types, where Python converts the lower data type to a higher data type to prevent data loss.                        \n",
    "\n",
    "    x = 10              \n",
    "    y = 2.5\n",
    "    z = x + y  # x is implicitly converted to float before addition\n",
    "    print(z)    # Output: 12.5\n",
    "    print(type(z)) # Output: <class 'float'>\n",
    "\n",
    " - Explicit type casting:\n",
    "     \n",
    "   The programmer manually converts a data type using built-in functions like int(), float(), str(), bool(), etc. \n",
    "     \n",
    "    This is necessary when Python cannot automatically perform the conversion or when a specific data type is required\n",
    "        \n",
    "     a = \"123\"\n",
    "    b = int(a)  # Explicitly convert string to integer\n",
    "    print(b)    # Output: 123\n",
    "    print(type(b)) # Output: <class 'int'>\n",
    "    \n",
    "    c = 3.14\n",
    "    d = int(c)  # Explicitly convert float to integer (truncates decimal)\n",
    "    print(d)    # Output: 3\n",
    "    \n",
    "    e = 1\n",
    "    f = bool(e) # Explicitly convert integer to boolean\n",
    "    print(f)    # Output: True\n",
    "\n",
    "\n",
    " # 11. What is the purpose of conditional statements in Python ?\n",
    "\n",
    " - The purpose of conditional statements in Python is to allow your program to make decisions and execute certain blocks of code \n",
    "  only when specific conditions are met.\n",
    "\n",
    " - They let your program react differently depending on input or the current state — like an \"if this, then that\" logic.   \n",
    "\n",
    "   Common conditional statements:\n",
    "     \n",
    "  - if: Executes a block of code if a condition is True.\n",
    "\n",
    "  - elif: Short for \"else if\" – checks another condition if the previous ones are False.\n",
    "\n",
    "  - else: Executes a block of code if none of the previous conditions were True. \n",
    "\n",
    "        age = 18\n",
    "\n",
    "    if age >= 18:\n",
    "     \n",
    "       print(\"You can vote.\")\n",
    "     \n",
    "    elif age >= 16:\n",
    "     \n",
    "         print(\"You can drive.\")\n",
    "     \n",
    "    else:\n",
    "     \n",
    "        print(\"You're too young for both.\")\n",
    "\n",
    " # 12. How does the elif statement work ?\n",
    "\n",
    "  How it works:\n",
    "     \n",
    "- Python checks the if condition first.\n",
    "\n",
    "- If the if condition is True, it runs that block and skips the rest.\n",
    "\n",
    "- If it's False, it moves to the elif and checks that condition.\n",
    "\n",
    "- You can have multiple elif statements.\n",
    "\n",
    "- If none of the if or elif conditions are True, the else block runs (if it exists).\n",
    "\n",
    "     Example:\n",
    "\n",
    "temperature = 25\n",
    "\n",
    "if temperature > 30: \n",
    "     \n",
    "    print(\"It's hot outside.\")  \n",
    "     \n",
    "elif temperature > 20: \n",
    "\n",
    "    print(\"It's warm outside.\")\n",
    "     \n",
    "elif temperature > 10:\n",
    "     \n",
    "    print(\"It's cool outside.\") \n",
    "     \n",
    "else: \n",
    "     \n",
    "    print(\"It's cold outside.\")\n",
    "\n",
    "-  Output:\n",
    "\n",
    "It's warm outside.\n",
    "     \n",
    "\n",
    " # 13. What is the difference between for and while loops ?\n",
    "    \n",
    "  for loops are used when you know the number of iterations beforehand, while while loops are used when the number of iterations depends on a condition that might change during execution. \n",
    "\n",
    "   Main Difference:\n",
    "    \n",
    "  -for loop                                       \t\n",
    "    \n",
    "\t        -You know how many times to loop\t                \n",
    "            -Iterates over a sequence (like a list, range)\t    \n",
    "            - More compact and readable for fixed loops\t\n",
    "                                       \n",
    " -while loop\n",
    "                          \n",
    "               -You don’t know how many times\n",
    "               -Runs while a condition is True\n",
    "               -More flexible but requires manual control\n",
    "\n",
    "✅ for loop example:\n",
    "\n",
    "for i in range(5):\n",
    "    \n",
    "    print(i)\n",
    "    \n",
    "Output:\n",
    "\n",
    "\n",
    "0\n",
    "    \n",
    "1\n",
    "    \n",
    "2\n",
    "    \n",
    "3\n",
    "    \n",
    "4\n",
    "    \n",
    "It loops 5 times, automatically updating i each time.\n",
    "\n",
    "✅ while loop example:\n",
    "\n",
    "count = 0\n",
    "    \n",
    "while count < 5:\n",
    "    \n",
    "    print(count)   \n",
    "    \n",
    "    count += 1\n",
    "\n",
    "Output:\n",
    "\n",
    "\n",
    "0\n",
    "    \n",
    "1\n",
    "    \n",
    "2\n",
    "    \n",
    "3\n",
    "    \n",
    "4\n",
    "    \n",
    "It loops as long as the condition (count < 5) is true.\n",
    "\n",
    "🧠 NOTE:\n",
    "Use for when you’re looping over a known range or collection.\n",
    "\n",
    "Use while when you want to keep looping until something happens, and don’t know how many times in advance.\n",
    "\n",
    " # 14. Describe a scenario where a while loop is more suitable than a for loop.  \n",
    "\n",
    "- User Login Attempt\n",
    " \n",
    " Imagine you're building a simple login system. You want to keep asking the user for their password until they get it right.\n",
    "\n",
    "Since you don’t know how many tries it will take, a while loop is perfect.\n",
    "\n",
    "- Example:\n",
    "\n",
    "correct_password = \"python123\"\n",
    "\n",
    "user_input = \"\"\n",
    "\n",
    "while user_input != correct_password:\n",
    "\n",
    "    user_input = input(\"Enter your password: \")\n",
    "\n",
    "print(\"Access granted!\")\n",
    "\n",
    "- Why not for?\n",
    "\n",
    "You can’t use a for loop easily here because:\n",
    "\n",
    "You don’t know in advance how many attempts the user will take.\n",
    "\n",
    "You want the loop to continue until a specific condition is met.\n",
    "\n",
    "🧠 Note:\n",
    "Use a while loop when the number of repetitions depends on something happening during the loop, like waiting for correct input, a game to end, or a sensor to detect something.\n",
    "     \n"
   ]
  },
  {
   "cell_type": "code",
   "execution_count": null,
   "id": "30a6e651-1f3b-489f-85e0-99f993449e51",
   "metadata": {},
   "outputs": [],
   "source": [
    "# Practical Questions "
   ]
  },
  {
   "cell_type": "code",
   "execution_count": 10,
   "id": "ca69372a-e925-4da4-9986-5edf122b4db7",
   "metadata": {},
   "outputs": [
    {
     "name": "stdout",
     "output_type": "stream",
     "text": [
      "Hello, World!\n"
     ]
    }
   ],
   "source": [
    "# 1. Write a Python program to print \"Hello, World!\"\n",
    "\n",
    "print( \"Hello, World!\" )"
   ]
  },
  {
   "cell_type": "code",
   "execution_count": 93,
   "id": "9bccaa7a-4157-48ae-ab8e-48ddb3c852ca",
   "metadata": {},
   "outputs": [
    {
     "name": "stdout",
     "output_type": "stream",
     "text": [
      "Name: Chanchal Raikwar\n",
      "Age: 22\n"
     ]
    }
   ],
   "source": [
    "# 2. Write a Python program that displays your name and age.\n",
    "\n",
    "name = \"Chanchal Raikwar\"\n",
    "age = 22\n",
    "\n",
    "print(\"Name:\", name)\n",
    "print(\"Age:\",  age)\n"
   ]
  },
  {
   "cell_type": "code",
   "execution_count": 31,
   "id": "14da724c-40b8-437d-8db4-a06d631ba8ef",
   "metadata": {},
   "outputs": [
    {
     "name": "stdout",
     "output_type": "stream",
     "text": [
      "Python Keywords:\n",
      "False\n",
      "None\n",
      "True\n",
      "and\n",
      "as\n",
      "assert\n",
      "async\n",
      "await\n",
      "break\n",
      "class\n",
      "continue\n",
      "def\n",
      "del\n",
      "elif\n",
      "else\n",
      "except\n",
      "finally\n",
      "for\n",
      "from\n",
      "global\n",
      "if\n",
      "import\n",
      "in\n",
      "is\n",
      "lambda\n",
      "nonlocal\n",
      "not\n",
      "or\n",
      "pass\n",
      "raise\n",
      "return\n",
      "try\n",
      "while\n",
      "with\n",
      "yield\n"
     ]
    }
   ],
   "source": [
    "# 3. Write code to print all the pre-defined keywords in Python using the keyword library.\n",
    "\n",
    "import keyword\n",
    "\n",
    "keywords = keyword.kwlist      # Get the list of all keywords\n",
    "\n",
    "print(\"Python Keywords:\")     # Print them\n",
    "for kw in keywords:\n",
    "    print(kw)\n"
   ]
  },
  {
   "cell_type": "code",
   "execution_count": 1,
   "id": "367192b8-6157-477e-a27e-b5250bc37765",
   "metadata": {},
   "outputs": [
    {
     "name": "stdin",
     "output_type": "stream",
     "text": [
      "Enter a word:  import\n"
     ]
    },
    {
     "name": "stdout",
     "output_type": "stream",
     "text": [
      "'import' is a Python keyword.\n"
     ]
    }
   ],
   "source": [
    "# 4. Write a program that checks if a given word is a Python keyword.\n",
    "\n",
    "import keyword\n",
    "\n",
    "# Get input from the user\n",
    "word = input(\"Enter a word: \")\n",
    "\n",
    "# Check if it's a keyword\n",
    "if keyword.iskeyword(word):\n",
    "    print(f\"'{word}' is a Python keyword.\")\n",
    "else:\n",
    "    print(f\"'{word}' is NOT a Python keyword.\")\n"
   ]
  },
  {
   "cell_type": "code",
   "execution_count": 5,
   "id": "a83c98b2-08ec-438f-b7e5-302d06c9a99a",
   "metadata": {},
   "outputs": [
    {
     "name": "stdout",
     "output_type": "stream",
     "text": [
      "Modified list: [100, 2, 3]\n",
      "Error when trying to modify tuple: 'tuple' object does not support item assignment\n"
     ]
    }
   ],
   "source": [
    " # 5. Create a list and tuple in Python, and demonstrate how attempting to change an element works differently for each.\n",
    "\n",
    "# Creating a list and a tuple\n",
    "my_list = [1, 2, 3]\n",
    "my_tuple = (1, 2, 3)\n",
    "\n",
    "# Modifying an element in the list\n",
    "my_list[0] = 100\n",
    "print(\"Modified list:\", my_list)\n",
    "\n",
    "# Attempting to modify an element in the tuple\n",
    "try:\n",
    "    my_tuple[0] = 100\n",
    "except TypeError as e:\n",
    "    print(\"Error when trying to modify tuple:\", e)\n"
   ]
  },
  {
   "cell_type": "code",
   "execution_count": 95,
   "id": "53adb0e0-abcc-4b12-ac47-8632d0aa2e47",
   "metadata": {},
   "outputs": [
    {
     "name": "stdout",
     "output_type": "stream",
     "text": [
      "Inside function (immutable): 6\n",
      "Outside function (immutable): 5\n",
      "Inside function (mutable): [1, 2, 3, 10]\n",
      "Outside function (mutable): [1, 2, 3, 10]\n"
     ]
    }
   ],
   "source": [
    "# 6. Write a function to demonstrate the behavior of mutable and immutable arguments\n",
    "\n",
    "# Function with immutable argument (int)\n",
    "def change_value(x):\n",
    "    x = x + 1\n",
    "    print(\"Inside function (immutable):\", x)\n",
    "\n",
    "# Function with mutable argument (list)\n",
    "def change_list(my_list):\n",
    "    my_list.append(10)\n",
    "    print(\"Inside function (mutable):\", my_list)\n",
    "\n",
    "# Main program\n",
    "num = 5\n",
    "my_list = [1, 2, 3]\n",
    "\n",
    "change_value(num)\n",
    "print(\"Outside function (immutable):\", num)\n",
    "\n",
    "change_list(my_list)\n",
    "print(\"Outside function (mutable):\", my_list)\n"
   ]
  },
  {
   "cell_type": "code",
   "execution_count": 85,
   "id": "a56077d4-4b08-4ff7-8def-18c9bd8ee07f",
   "metadata": {},
   "outputs": [
    {
     "name": "stdin",
     "output_type": "stream",
     "text": [
      "Enter first number:  3\n",
      "Enter second number:  2\n"
     ]
    },
    {
     "name": "stdout",
     "output_type": "stream",
     "text": [
      "Addition: 5.0\n",
      "Subtraction: 1.0\n",
      "Multiplication: 6.0\n",
      "Division: 1.5\n"
     ]
    }
   ],
   "source": [
    "# 7. Write a program that performs basic arithmetic operations on two user-input numbers.\n",
    "\n",
    "  # Get two numbers from the user\n",
    "a = float(input(\"Enter first number: \"))\n",
    "b = float(input(\"Enter second number: \"))\n",
    "\n",
    "# Perform operations\n",
    "print(\"Addition:\", a + b)\n",
    "print(\"Subtraction:\", a - b)\n",
    "print(\"Multiplication:\", a * b)\n",
    "print(\"Division:\", a / b)\n"
   ]
  },
  {
   "cell_type": "code",
   "execution_count": 49,
   "id": "7cf274f3-1c9f-43b9-bfcc-22530110cc1f",
   "metadata": {},
   "outputs": [
    {
     "name": "stdout",
     "output_type": "stream",
     "text": [
      "True\n",
      "True\n",
      "False\n"
     ]
    }
   ],
   "source": [
    " # 8. Write a program to demonstrate the use of logical operators.\n",
    "\n",
    " a = 5\n",
    "b = 10\n",
    "\n",
    "# AND operator\n",
    "print(a > 0 and b > 0)  # True because both are greater than 0\n",
    "\n",
    "# OR operator\n",
    "print(a > 0 or b < 0)   # True because one condition is true\n",
    "\n",
    "# NOT operator\n",
    "print(not (a > 0))      # False because a > 0 is True, and not True is False\n",
    "\n"
   ]
  },
  {
   "cell_type": "code",
   "execution_count": 51,
   "id": "f98be0a0-cb0f-4727-8595-a34a928d0c72",
   "metadata": {},
   "outputs": [
    {
     "name": "stdin",
     "output_type": "stream",
     "text": [
      "Enter something:  12345\n"
     ]
    },
    {
     "name": "stdout",
     "output_type": "stream",
     "text": [
      "Integer: 12345\n",
      "Float: 12345.0\n",
      "Boolean: True\n"
     ]
    }
   ],
   "source": [
    " # 9.  Write a Python program to convert user input from string to integer, float, and boolean types.\n",
    "\n",
    "\n",
    "# Get input from user\n",
    "user_input = input(\"Enter something: \")\n",
    "\n",
    "# Convert to integer\n",
    "int_value = int(user_input)\n",
    "print(\"Integer:\", int_value)\n",
    "\n",
    "# Convert to float\n",
    "float_value = float(user_input)\n",
    "print(\"Float:\", float_value)\n",
    "\n",
    "# Convert to boolean\n",
    "bool_value = bool(user_input)\n",
    "print(\"Boolean:\", bool_value)\n",
    "\n",
    "\n",
    "  "
   ]
  },
  {
   "cell_type": "code",
   "execution_count": 69,
   "id": "c87e30ad-2be8-4b1a-bf30-3bf78ed0c129",
   "metadata": {},
   "outputs": [
    {
     "name": "stdout",
     "output_type": "stream",
     "text": [
      "Integer list: [1, 2, 3, 4]\n",
      "Float list: [1.0, 2.0, 3.0, 4.0]\n",
      "Boolean list: [True, True, True, True]\n"
     ]
    }
   ],
   "source": [
    " # 10. Write code to demonstrate type casting with list elements.\n",
    "\n",
    "# List of strings\n",
    "string_list = [\"1\", \"2\", \"3\", \"4\"]\n",
    "\n",
    "# Convert to integers\n",
    "int_list = [int(x) for x in string_list]\n",
    "print(\"Integer list:\", int_list)\n",
    "\n",
    "# Convert to floats\n",
    "float_list = [float(x) for x in string_list]\n",
    "print(\"Float list:\", float_list)\n",
    "\n",
    "# Convert to booleans\n",
    "bool_list = [bool(x) for x in string_list]\n",
    "print(\"Boolean list:\", bool_list)\n",
    "\n"
   ]
  },
  {
   "cell_type": "code",
   "execution_count": 59,
   "id": "4be1cfcf-21ab-4b2b-966c-75ff9d5c6e4f",
   "metadata": {},
   "outputs": [
    {
     "name": "stdin",
     "output_type": "stream",
     "text": [
      "Enter a number:  123\n"
     ]
    },
    {
     "name": "stdout",
     "output_type": "stream",
     "text": [
      "The number is positive.\n"
     ]
    }
   ],
   "source": [
    " # 11.Write a program that checks if a number is positive, negative, or zero\n",
    "\n",
    " # Ask the user to enter a number\n",
    "num = float(input(\"Enter a number: \"))\n",
    "\n",
    "# Check if it's positive, negative, or zero\n",
    "if num > 0:\n",
    "    print(\"The number is positive.\")\n",
    "elif num < 0:\n",
    "    print(\"The number is negative.\")\n",
    "else:\n",
    "    print(\"The number is zero.\")\n",
    " "
   ]
  },
  {
   "cell_type": "code",
   "execution_count": 75,
   "id": "9c2d19ac-faf2-4eca-a9d9-42061c4c3f04",
   "metadata": {},
   "outputs": [
    {
     "name": "stdout",
     "output_type": "stream",
     "text": [
      "1\n",
      "2\n",
      "3\n",
      "4\n",
      "5\n",
      "6\n",
      "7\n",
      "8\n",
      "9\n",
      "10\n"
     ]
    }
   ],
   "source": [
    " # 12. Write a for loop to print numbers from 1 to 10.\n",
    "\n",
    "# Print numbers from 1 to 10 using a for loop\n",
    "for i in range(1, 11):\n",
    "    print(i)\n"
   ]
  },
  {
   "cell_type": "code",
   "execution_count": 29,
   "id": "33a22d3e-f546-43f2-bce6-ed308ba9034c",
   "metadata": {},
   "outputs": [
    {
     "name": "stdout",
     "output_type": "stream",
     "text": [
      "Sum of even numbers from 1 to 50 is: 650\n"
     ]
    }
   ],
   "source": [
    " # 13. Write a Python program to find the sum of all even numbers between 1 and 50.\n",
    "\n",
    "# Initialize sum\n",
    "even_sum = 0\n",
    "\n",
    "# Loop through numbers from 1 to 50\n",
    "for i in range(1, 51):\n",
    "    if i % 2 == 0:\n",
    "        even_sum += i\n",
    "\n",
    "# Print the result\n",
    "print(\"Sum of even numbers from 1 to 50 is:\", even_sum)\n"
   ]
  },
  {
   "cell_type": "code",
   "execution_count": 99,
   "id": "0809b572-3eee-4274-ae74-1ee523b30465",
   "metadata": {},
   "outputs": [
    {
     "name": "stdin",
     "output_type": "stream",
     "text": [
      "Enter a string:  123\n"
     ]
    },
    {
     "name": "stdout",
     "output_type": "stream",
     "text": [
      "Reversed string: 321\n"
     ]
    }
   ],
   "source": [
    " # 14. Write a program to reverse a string using a while loop.\n",
    "\n",
    "text = input(\"Enter a string: \")\n",
    "i = len(text) - 1\n",
    "rev = \"\"\n",
    "\n",
    "while i >= 0:\n",
    "    rev = rev + text[i]\n",
    "    i = i - 1\n",
    "\n",
    "print(\"Reversed string:\", rev)\n"
   ]
  },
  {
   "cell_type": "code",
   "execution_count": 97,
   "id": "c448ec12-67d9-4f59-b685-32a306befd3e",
   "metadata": {},
   "outputs": [
    {
     "name": "stdin",
     "output_type": "stream",
     "text": [
      "Enter a number:  4\n"
     ]
    },
    {
     "name": "stdout",
     "output_type": "stream",
     "text": [
      "Factorial is: 24\n"
     ]
    }
   ],
   "source": [
    " # 15. Write a Python program to calculate the factorial of a number provided by the user using a while loop\n",
    "\n",
    "num = int(input(\"Enter a number: \"))\n",
    "fact = 1\n",
    "i = 1\n",
    "\n",
    "while i <= num:\n",
    "    fact = fact * i\n",
    "    i = i + 1\n",
    "\n",
    "print(\"Factorial is:\", fact)\n"
   ]
  },
  {
   "cell_type": "code",
   "execution_count": null,
   "id": "bd3144b7-a30f-40fd-86af-523ddc208aeb",
   "metadata": {},
   "outputs": [],
   "source": []
  }
 ],
 "metadata": {
  "kernelspec": {
   "display_name": "Python [conda env:base] *",
   "language": "python",
   "name": "conda-base-py"
  },
  "language_info": {
   "codemirror_mode": {
    "name": "ipython",
    "version": 3
   },
   "file_extension": ".py",
   "mimetype": "text/x-python",
   "name": "python",
   "nbconvert_exporter": "python",
   "pygments_lexer": "ipython3",
   "version": "3.12.7"
  }
 },
 "nbformat": 4,
 "nbformat_minor": 5
}
